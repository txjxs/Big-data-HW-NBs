{
  "nbformat": 4,
  "nbformat_minor": 0,
  "metadata": {
    "colab": {
      "provenance": [],
      "authorship_tag": "ABX9TyP18fHTOubpedYC9VazN6JD",
      "include_colab_link": true
    },
    "kernelspec": {
      "name": "python3",
      "display_name": "Python 3"
    },
    "language_info": {
      "name": "python"
    }
  },
  "cells": [
    {
      "cell_type": "markdown",
      "metadata": {
        "id": "view-in-github",
        "colab_type": "text"
      },
      "source": [
        "<a href=\"https://colab.research.google.com/github/txjxs/Big-data-HW-NBs/blob/main/HW1_Q1.ipynb\" target=\"_parent\"><img src=\"https://colab.research.google.com/assets/colab-badge.svg\" alt=\"Open In Colab\"/></a>"
      ]
    },
    {
      "cell_type": "markdown",
      "source": [
        "# Question 1"
      ],
      "metadata": {
        "id": "qcYFGlUl5-ry"
      }
    },
    {
      "cell_type": "code",
      "source": [
        "from pyspark import SparkConf, SparkContext\n"
      ],
      "metadata": {
        "id": "7BRdRgbfMuo9"
      },
      "execution_count": null,
      "outputs": []
    },
    {
      "cell_type": "code",
      "source": [
        "# Initialize Spark Context\n",
        "conf = SparkConf().set(\"spark.executor.memory\", \"8g\")\n",
        "sc = SparkContext(conf=conf)\n"
      ],
      "metadata": {
        "id": "jbRd3WOUNPV6"
      },
      "execution_count": null,
      "outputs": []
    },
    {
      "cell_type": "code",
      "source": [
        "def parse_line(line):\n",
        "    \"\"\"Parses a line from the input file and returns (user, list_of_friends)\"\"\"\n",
        "    parts = line.split(\"\\t\")\n",
        "    user = int(parts[0])\n",
        "    friends = list(map(int, parts[1].split(\",\"))) if len(parts) > 1 and parts[1] else []\n",
        "    return user, friends\n"
      ],
      "metadata": {
        "id": "4idEZkTtNIKz"
      },
      "execution_count": null,
      "outputs": []
    },
    {
      "cell_type": "code",
      "source": [
        "def generate_mutual_friend_pairs(user, friends):\n",
        "    \"\"\"Generates pairs (friend, mutual_friend) for each user.\"\"\"\n",
        "    mutual_friend_pairs = []\n",
        "    for i in range(len(friends)):\n",
        "        for j in range(i + 1, len(friends)):\n",
        "            pair = tuple(sorted([friends[i], friends[j]]))\n",
        "            mutual_friend_pairs.append((pair, 1))\n",
        "    return mutual_friend_pairs\n"
      ],
      "metadata": {
        "id": "ZuxaEgULNKwW"
      },
      "execution_count": null,
      "outputs": []
    },
    {
      "cell_type": "code",
      "source": [
        "def recommend_friends(user, friends, mutual_friends_count):\n",
        "    \"\"\"Generates friend recommendations for a user based on mutual friends.\"\"\"\n",
        "    existing_friends = set(friends)\n",
        "    recommendations = [(other_user, count) for (other_user, count) in mutual_friends_count.items() if other_user not in existing_friends]\n",
        "    recommendations.sort(key=lambda x: (-x[1], x[0]))  # Sort by descending count, then ascending ID\n",
        "    return user, [rec[0] for rec in recommendations[:10]]\n",
        "\n"
      ],
      "metadata": {
        "id": "Km1ujt8SNMrR"
      },
      "execution_count": null,
      "outputs": []
    },
    {
      "cell_type": "code",
      "source": [
        "# Load and parse the data\n",
        "lines = sc.textFile(\"/content/soc-LiveJournal1Adj.txt\")  # Replace with actual file path\n",
        "user_friends = lines.map(parse_line)\n"
      ],
      "metadata": {
        "id": "iuHWPXZHNRb0"
      },
      "execution_count": null,
      "outputs": []
    },
    {
      "cell_type": "code",
      "source": [
        "user_friends.take(1)"
      ],
      "metadata": {
        "colab": {
          "base_uri": "https://localhost:8080/"
        },
        "id": "ioR_bJbQNsYK",
        "outputId": "32b8c374-bafc-4cf6-90b5-9cd09065b999"
      },
      "execution_count": null,
      "outputs": [
        {
          "output_type": "execute_result",
          "data": {
            "text/plain": [
              "[(0,\n",
              "  [1,\n",
              "   2,\n",
              "   3,\n",
              "   4,\n",
              "   5,\n",
              "   6,\n",
              "   7,\n",
              "   8,\n",
              "   9,\n",
              "   10,\n",
              "   11,\n",
              "   12,\n",
              "   13,\n",
              "   14,\n",
              "   15,\n",
              "   16,\n",
              "   17,\n",
              "   18,\n",
              "   19,\n",
              "   20,\n",
              "   21,\n",
              "   22,\n",
              "   23,\n",
              "   24,\n",
              "   25,\n",
              "   26,\n",
              "   27,\n",
              "   28,\n",
              "   29,\n",
              "   30,\n",
              "   31,\n",
              "   32,\n",
              "   33,\n",
              "   34,\n",
              "   35,\n",
              "   36,\n",
              "   37,\n",
              "   38,\n",
              "   39,\n",
              "   40,\n",
              "   41,\n",
              "   42,\n",
              "   43,\n",
              "   44,\n",
              "   45,\n",
              "   46,\n",
              "   47,\n",
              "   48,\n",
              "   49,\n",
              "   50,\n",
              "   51,\n",
              "   52,\n",
              "   53,\n",
              "   54,\n",
              "   55,\n",
              "   56,\n",
              "   57,\n",
              "   58,\n",
              "   59,\n",
              "   60,\n",
              "   61,\n",
              "   62,\n",
              "   63,\n",
              "   64,\n",
              "   65,\n",
              "   66,\n",
              "   67,\n",
              "   68,\n",
              "   69,\n",
              "   70,\n",
              "   71,\n",
              "   72,\n",
              "   73,\n",
              "   74,\n",
              "   75,\n",
              "   76,\n",
              "   77,\n",
              "   78,\n",
              "   79,\n",
              "   80,\n",
              "   81,\n",
              "   82,\n",
              "   83,\n",
              "   84,\n",
              "   85,\n",
              "   86,\n",
              "   87,\n",
              "   88,\n",
              "   89,\n",
              "   90,\n",
              "   91,\n",
              "   92,\n",
              "   93,\n",
              "   94])]"
            ]
          },
          "metadata": {},
          "execution_count": 47
        }
      ]
    },
    {
      "cell_type": "code",
      "source": [
        "# Generate mutual friend counts\n",
        "mutual_friend_pairs = user_friends.flatMap(lambda x: generate_mutual_friend_pairs(x[0], x[1]))\n",
        "mutual_friend_counts = mutual_friend_pairs.reduceByKey(lambda x, y: x + y)\n"
      ],
      "metadata": {
        "id": "jMX_nYI5NS9k"
      },
      "execution_count": null,
      "outputs": []
    },
    {
      "cell_type": "code",
      "source": [
        "# Restructure the data for recommendations\n",
        "mutual_friends_by_user = mutual_friend_counts.flatMap(lambda x: [(x[0][0], (x[0][1], x[1])), (x[0][1], (x[0][0], x[1]))])\n",
        "mutual_friends_grouped = mutual_friends_by_user.groupByKey().mapValues(dict)\n"
      ],
      "metadata": {
        "id": "JiXKt4R8NUiR"
      },
      "execution_count": null,
      "outputs": []
    },
    {
      "cell_type": "code",
      "source": [
        "# Generate recommendations\n",
        "recommendations = user_friends.join(mutual_friends_grouped).map(lambda x: recommend_friends(x[0], x[1][0], x[1][1]))\n"
      ],
      "metadata": {
        "id": "mZMuwL8CNWPK"
      },
      "execution_count": null,
      "outputs": []
    },
    {
      "cell_type": "code",
      "source": [
        "# test\n",
        "user_id = [11]\n",
        "test_result = recommendations.filter(lambda x: x[0] in user_id).collect()\n",
        "print(test_result)"
      ],
      "metadata": {
        "colab": {
          "base_uri": "https://localhost:8080/"
        },
        "id": "rBXIUbP6Pucn",
        "outputId": "94035e0b-a70e-416e-b6f1-13e1335f53ce"
      },
      "execution_count": null,
      "outputs": [
        {
          "output_type": "stream",
          "name": "stdout",
          "text": [
            "[(11, [27552, 7785, 27573, 27574, 27589, 27590, 27600, 27617, 27620, 27667])]\n"
          ]
        }
      ]
    },
    {
      "cell_type": "code",
      "source": [
        "# Collect recommendations for specified user IDs\n",
        "user_ids = [1376, 1377, 1210, 9018, 9033, 9040, 9999, 9910, 9902, 9993]\n",
        "results = recommendations.filter(lambda x: x[0] in user_ids).collect()\n"
      ],
      "metadata": {
        "id": "sBLlGlLPNXtp"
      },
      "execution_count": null,
      "outputs": []
    },
    {
      "cell_type": "code",
      "source": [
        "# Print results\n",
        "for user, recs in results:\n",
        "    print(f\"{user}\\t{','.join(map(str, recs))}\")\n",
        "\n",
        "sc.stop()\n"
      ],
      "metadata": {
        "colab": {
          "base_uri": "https://localhost:8080/"
        },
        "id": "nIsZv-veNZAX",
        "outputId": "2b40e395-9e1c-425c-a49e-5fd34a403547"
      },
      "execution_count": null,
      "outputs": [
        {
          "output_type": "stream",
          "name": "stdout",
          "text": [
            "1376\t1382,6487,1356,1366,2409,4498,5307,8737,12700,16486\n",
            "9040\t9033,9039,9025,9027,9031,9032,9034,9036,503,9029\n",
            "1377\t1349,1382,1387,1390,1405,1410,1428,33772,1352,1354\n",
            "9033\t9039,9040,9025,9026,9027,9031,9032,9034,9036,503\n",
            "9993\t9991,13134,13478,13877,34299,34485,34642,37941\n",
            "9018\t9016,9017,317,9023\n",
            "9902\t9906,18845,1797,9891,9894,18626,24136,236,319,351\n",
            "1210\t1158,1204,1233,1169,1223,1159,1167,1175,1182,1183\n",
            "9910\t351,622,2554,7651,9920,22338,30169,30403,45111,47577\n",
            "9999\t36764,44132,10058,44088,36765,36909,10055,44068,44076,10000\n"
          ]
        }
      ]
    },
    {
      "cell_type": "code",
      "source": [],
      "metadata": {
        "id": "n-PP9lgbTX6K"
      },
      "execution_count": null,
      "outputs": []
    },
    {
      "cell_type": "markdown",
      "source": [
        "## Writeup\n",
        "\n",
        "This recommendation system follows a MapReduce paradigm to process large-scale data efficiently. The pipeline begins by parsing the input data into a user-friend adjacency list. We then use a flatMap transformation to generate mutual friend pairs, where each pair represents two users who share a mutual friend. The reduceByKey operation then aggregates these pairs, counting how many mutual friends each pair shares. This produces a list of second-degree connections ranked by their mutual friend count. Next, we restructure the data to associate each user with potential recommendations and filter out existing friends. Finally, we sort the recommendations based on the number of mutual friends (descending order), and in case of ties, by user ID (ascending order). The system then returns the top 10 recommendations for each user. This approach leverages parallel processing in Spark, ensuring efficient computation at scale.\n"
      ],
      "metadata": {
        "id": "n1gC0mYqAm-v"
      }
    }
  ]
}